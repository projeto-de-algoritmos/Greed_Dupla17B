{
 "cells": [
  {
   "cell_type": "markdown",
   "metadata": {},
   "source": [
    "# PAA -  Greed \n",
    "\n",
    "## Huffman InteractiveTutorial\n",
    "\n",
    "A compressão de dados é uma necessidade frequente no dia a dia de qualquer usuário de dispositivos computacionais. Isso porque memória pode ser um recurso custoso, por isso vale a pena quando possível guardar os arquivos em um formato comprimido, tendo em vista otimizar o uso da memoria.\n",
    "\n",
    "Em termos básicos o algoritmo de Huffman é um algoritmo ambicioso que consiste em uma técnica de compressão sem perda de dados. Ele funciona atribuindo códigos de tamanho variável para cada um dos caractéres a serem codificados, dando os códigos de menor tamanho para os caracteres que mais se repetem, de forma a minimizar o tamanho do código final gerado.\n",
    "\n",
    "\n",
    "Nesse tutorial interativo, você poderá aprender o passo a passo do algoritmo enquanto utiliza ele para comprimir um arquivo de texto."
   ]
  },
  {
   "cell_type": "markdown",
   "metadata": {},
   "source": [
    "# PT 0. Bibliotecas utilizadas no código"
   ]
  },
  {
   "cell_type": "code",
   "execution_count": 1,
   "metadata": {},
   "outputs": [],
   "source": [
    "import heapq\n",
    "import os\n",
    "import filecmp\n",
    "from IPython.display import clear_output, Image, HTML"
   ]
  },
  {
   "cell_type": "markdown",
   "metadata": {},
   "source": [
    "# PT 1. Codificação"
   ]
  },
  {
   "cell_type": "markdown",
   "metadata": {},
   "source": [
    "### 1.1 Estrutura inicial\n",
    "O primeiro passo é definir a estrutura da nossa heap, que será utilizada para guardar cada um dos nosso caracteres em conjunto com sua frequência de ocorrência e nós a esquerda e a direita na árvore. "
   ]
  },
  {
   "cell_type": "code",
   "execution_count": 2,
   "metadata": {},
   "outputs": [],
   "source": [
    "class HeapNode:\n",
    "    def __init__(self, char, freq):\n",
    "        self.char = char\n",
    "        self.freq = freq\n",
    "        self.left = None\n",
    "        self.right = None\n",
    "    \n",
    "    #Funções para comparação entre nodes\n",
    "    def __lt__(self, other):\n",
    "        return self.freq < other.freq\n",
    "\n",
    "    def __eq__(self, other):\n",
    "        if(other == None):\n",
    "            return False\n",
    "        if(not isinstance(other, HeapNode)):\n",
    "            return False\n",
    "        return self.freq == other.freq"
   ]
  },
  {
   "cell_type": "markdown",
   "metadata": {},
   "source": [
    "### 1.2 Arquivo a ser comprimido \n",
    "Agora podemos pedir ao usuário o caminho do arquivo a ser comprimido e ler seu conteúdo."
   ]
  },
  {
   "cell_type": "code",
   "execution_count": 3,
   "metadata": {},
   "outputs": [
    {
     "name": "stdout",
     "output_type": "stream",
     "text": [
      "Digite o caminho do arquivo a ser comprimido ou escolha algum dos exemplos já disponíveis no repositório\n",
      "\n",
      "Arquivos disponíveis:\n",
      "\n",
      "\tmusica_vai_lembrar_de_mim.txt\n",
      "musica_vai_lembrar_de_mim.txt\n",
      "\n",
      "Arquivo escolhido: arquivos_exemplo/musica_vai_lembrar_de_mim.txt\n",
      "\n"
     ]
    }
   ],
   "source": [
    "example_files = [file for file in os.listdir('arquivos_exemplo')if not file.startswith('.') and file.endswith('txt') ]\n",
    "\n",
    "while True:\n",
    "    print(\"Digite o caminho do arquivo a ser comprimido ou escolha algum dos exemplos já disponíveis no repositório\")\n",
    "    print(\"\\nArquivos disponíveis:\\n\")\n",
    "    for file in example_files:\n",
    "        print(f'\\t{file}')\n",
    "    \n",
    "    original_path = input()\n",
    "    if original_path in example_files:\n",
    "        original_path = f'arquivos_exemplo/{original_path}'\n",
    "    \n",
    "    if os.path.isfile(original_path):\n",
    "        break\n",
    "    clear_output()\n",
    "    print(\"Arquivo não encontrado, tente novamente.\")\n",
    "    \n",
    "print(f'\\nArquivo escolhido: {original_path}\\n')\n",
    "original_filename, original_file_extension = os.path.splitext(original_path)\n",
    "with open(original_path, 'r+') as file:\n",
    "    text = file.read()\n",
    "    text = text.rstrip()"
   ]
  },
  {
   "cell_type": "markdown",
   "metadata": {},
   "source": [
    "### 1.3 Contagem de frequência \n",
    "\n",
    "Para executar o algoritmo de Huffman temos que primeiro contabilizar as frequências de ocorrência de cada caracter. Aqui fazemos isso e logo em seguida guardamos o resultado na nossa esturua de heap."
   ]
  },
  {
   "cell_type": "code",
   "execution_count": 4,
   "metadata": {},
   "outputs": [
    {
     "name": "stdout",
     "output_type": "stream",
     "text": [
      "\n",
      "Frequência dos caracteres:\n",
      "\n",
      "{'N': 1, 'A': 1, 'á': 2, 'T': 3, ',': 3, 'S': 3, 'q': 4, 'L': 4, 'É': 4, 'j': 5, 'x': 5, 'ã': 8, 'ó': 8, '?': 8, 'E': 9, 'z': 9, 'h': 10, 'M': 10, 'Q': 12, 'g': 12, 'f': 14, 'V': 14, 'ê': 15, 'p': 16, '.': 18, 't': 23, 'v': 25, 'b': 33, 'l': 35, 'd': 36, 'n': 39, 'c': 40, '\\n': 46, 'u': 49, 'i': 65, 'r': 68, 'm': 68, 's': 72, 'o': 108, 'a': 111, 'e': 139, ' ': 235}\n"
     ]
    }
   ],
   "source": [
    "chars_frequency = {}\n",
    "for character in text:\n",
    "    if not character in chars_frequency:\n",
    "        chars_frequency[character] = 0\n",
    "    chars_frequency[character] += 1\n",
    "\n",
    "print('\\nFrequência dos caracteres:\\n')\n",
    "print({k: v for k, v in sorted(chars_frequency.items(), key=lambda item: item[1])})\n",
    "\n",
    "heap = []\n",
    "\n",
    "for key in chars_frequency:\n",
    "    node = HeapNode(key, chars_frequency[key])\n",
    "    heapq.heappush(heap, node)"
   ]
  },
  {
   "cell_type": "markdown",
   "metadata": {},
   "source": [
    "### 1.4 Codificação\n",
    "\n",
    "Agora construímos nossa árvore com os caracteres, de forma que os nós mais próximos da raiz são aqueles que representam os caracteres com maior frequência. Isso fica especialmente fácil por termos utilizado uma heap, já guardando os nós em uma ordem conveniente.\n",
    "\n",
    "Esse processo é feito da seguinte forma:\n",
    "\n",
    "<b>1º</b> Selecionar os dois nós com menor valor de frequência e unir ambos em um nó pai cujo valor é a soma dos dois.\n",
    "\n",
    "<b>2º</b> Fazer isso repetidamente até termos uma única árvore.\n",
    "\n",
    "<b>3º</b> A partir da raiz da árvore visitar todos os filhos, para cada um deles atribuir 0s pra toda aresta a esquerda e 1s para toda aresta a direita.\n",
    "\n",
    "\n",
    "<b>Abaixo segue um GIF ilustrando o processo: </b>\n",
    "\n",
    "![huf_gif](huffman.gif)\n",
    "<br>\n",
    "<b>Um outro exemplo: </b>\n",
    "<br>\n",
    "![tree2_1](tree2_1.png)\n",
    "![tree2_2](tree2_2.png)\n"
   ]
  },
  {
   "cell_type": "markdown",
   "metadata": {},
   "source": [
    "Execução dos dois primeiros passos:"
   ]
  },
  {
   "cell_type": "code",
   "execution_count": 5,
   "metadata": {},
   "outputs": [],
   "source": [
    "while(len(heap)>1):\n",
    "    node1 = heapq.heappop(heap)\n",
    "    node2 = heapq.heappop(heap)\n",
    "\n",
    "    merged = HeapNode(None, node1.freq + node2.freq)\n",
    "    merged.left = node1\n",
    "    merged.right = node2\n",
    "\n",
    "    heapq.heappush(heap, merged)"
   ]
  },
  {
   "cell_type": "markdown",
   "metadata": {},
   "source": [
    "<div style=\"font-size:16px\">\n",
    "Estando com a árvore montada, podemos construir os códigos para cada caráter, que é o nosso passo três. Aqui fazemos isso recursivamente. \n",
    "\n",
    "Enquanto numeramos as arestas da árvore, os códigos de cada caráter são os números que levam da raiz até ele. \n",
    "\n",
    "Na última foto por exemplo o código para o caráter \"U\" seria \"001\", pois para chegar a ele da raiz vamos duas vezes para esquerda e por fim para direita, resultando em dois 0s e um 1.\n",
    "\n",
    "Além disso, construímos também um outro dicionário, que chamamos de \"reverse_mapping\". Esse dicionário irá conter a correspondência CODIGO:CARACTER, os códigos sendo as chaves do dicionário. Fazemos isso porque mais tarde, na hora de descodificar uma string de bits, fica mais fácil achar o caráter que corresponde a um código com o dicionário dessa forma\n",
    "</div>"
   ]
  },
  {
   "cell_type": "code",
   "execution_count": 6,
   "metadata": {},
   "outputs": [
    {
     "name": "stdout",
     "output_type": "stream",
     "text": [
      "\n",
      "Códigos:\n",
      "\n",
      "{'i': '0000', 'r': '0001', 'm': '0010', 'b': '00110', 'l': '00111', 'e': '010', 's': '0110', '.': '011100', 'L': '01110100', 'j': '01110101', 'z': '0111011', 'd': '01111', 'n': '10000', 'c': '10001', 'M': '1001000', 'h': '1001001', 'x': '10010100', 'T': '100101010', 'S': '100101011', 'g': '1001011', '\\n': '10011', 't': '101000', 'v': '101001', 'u': '10101', 'o': '1011', 'a': '1100', 'Q': '1101000', 'f': '1101001', 'V': '1101010', 'ê': '1101011', ',': '110110000', 'q': '110110001', 'ó': '11011001', 'p': '1101101', 'ã': '11011100', 'É': '110111010', 'á': '1101110110', 'N': '11011101110', 'A': '11011101111', '?': '11011110', 'E': '11011111', ' ': '111'}\n"
     ]
    }
   ],
   "source": [
    "\n",
    "reverse_mapping = {}\n",
    "codes = {}\n",
    "\n",
    "def build_huffman_code(root, current_code):\n",
    "    if(root == None):\n",
    "        return\n",
    "\n",
    "    if(root.char != None):\n",
    "        codes[root.char] = current_code\n",
    "        reverse_mapping[current_code] = root.char\n",
    "        return\n",
    "\n",
    "    build_huffman_code(root.left, current_code + \"0\") # Cada vez que vamos para esquerda, atribuimos mais um 0  \n",
    "    build_huffman_code(root.right, current_code + \"1\") # Cada vez que vamos para direita, atribuimos um 1\n",
    "    \n",
    "    \n",
    "build_huffman_code(heapq.heappop(heap), \"\")\n",
    "print(\"\\nCódigos:\\n\")\n",
    "print(codes)"
   ]
  },
  {
   "cell_type": "markdown",
   "metadata": {},
   "source": [
    "Tendo os códigos para cada caracter, podemos juntar tudo e criar o código que representa o texto inteiro"
   ]
  },
  {
   "cell_type": "code",
   "execution_count": 7,
   "metadata": {
    "scrolled": true
   },
   "outputs": [
    {
     "name": "stdout",
     "output_type": "stream",
     "text": [
      "110100010101110010000011111011111010101011111010000101111010010100111010110111001111011111011011011010100001101111110100001010101111001100100000011101011011100111101110111011011100101111101100000100001010001011111101001010000110010111011100001001001110010011110111011111101101010100001100011011101111010011001001110101101110011100100000001000010010011100111001101011100011100111010100001000110110110101000110010011110111110010111101000101011100111001101011100011100111110110001101010101111010000001010001001010011100100001010101011011110110011110010011011011011101010101111110100101010001100100110111001110010001100011011110110110111101000010101010110111010011010100011011100101111111000011001000011010001011011010011100101010101010111110111110011001000101110110010111100001101110010111110111101010101111100010100001101000101110011110111111010111111001000110010010100000111110110001101010101111000011011001011011110001100100101010010111100001010110110111101000110111001011111110110101000011010001011100111001000110001101111100100101110110001110011011000011110001101100101111000101000011010000100111011110011101010101111010100001001010001000011001011101110011110100010101010111100001011111110100100000010111010101011111100001001000001111101101101100011111000011011001011011101111101100000110100111101111101100110010111110100110110000111101010010111001100100000011101011011111011110101110111101001101101101010011110000011111100100111101000101010101110110010111011111101110110111101010010110011110100101001110111110110110110011111000011001111010010000011111100100111101000101010101110101001010011011010011100001000111001111010001010101111101111101100100010111001100001000010010111100011010011110111111111000100111110000010100000110011110111110010110000000110111010011010001101010001101111101111101101101110111100001100011010011100101010101010111110111110011001000101110110010111100001101110010111110111101010101111100010100001101000101110011110111111010111111001000110010010100000111110110001101010101111000011011001011011110001100100101010010111100001010110110111101000110111001011111110110101000011010001011100111001000110001101111100100101110110001110011011000011110001101100101111000101000011010000100111011110011101010101111010100001001010001000011001011101110011110100010101010111100001011111110100100000010111010101011111100001001000001111101101101100011111000011011001011011101111101100000110100111001000110001101111010011011100011101011111001110100010001100001110011011110111110101010111000111010111111010011100000011100111010001000110000111000001111011110101110010000000101001111010001010101011110111111000010110110011010111111100001010110001111101001110000111010101011111100111110110101010000110010011011101000100010001100001110011011110111110111010111101111110000101101100110101111111010010000100001100001111111101001010001110000011101110011110101010111000111010111111010011100000011100111010001000110000111000001011100011100011100111110101011000000111001110100010001100001110000010111000111000111001111001010110000001010011110101010111000111010111111010011100000011100111010001000110000111000001111011110101110010000000101001111011111011001100101111101001101100001111010100101110011001000000111010110111110111101011101111010011011011010100111100000111111001001111010001010101011101100101110111111011101101111010100101100111101001010011101111101101101100111110000110011110100100000111111001001111010001010101011101010010100110110100111000010001110011110100010101011111011111011001000101110011000010000100101111000110100111101111111110001001111100000101000001100111101111100101100000001101110100110100011010100011011111011111011011011101111000011000110100111001010101010101111101111100110010001011101100101111000011011100101111101111010101011111000101000011010001011100111101111110101111110010001100100101000001111101100011010101011110000110110010110111100011001001010100101111000010101101101111010001101110010111111101101010000110100010111001110010001100011011111001001011101100011100110110000111100011011001011110001010000110100001001110111100111010101011110101000010010100010000110010111011100111101000101010101111000010111111101001000000101110101010111111000010010000011111011011011000111110000110110010110111011111011000001101001110010001100011011110100110111000111010111110011101000100011000011100110111101111101010101110001110101111110100111000000111001110100010001100001110000011110111101011100100000001010011110100010101010111101111110000101101100110101111111000010101100011111010011100001110101010111111001111101101010100001100100110111010001000100011000011100110111101111101110101111011111100001011011001101011111110100100001000011000011111111010010100011100000111011100111101010101110001110101111110100111000000111001110100010001100001110000010111000111000111001111101010110000001110011101000100011000011100000101110001110001110011110010101100000010100111101010101110001110101111110100111000000111001110100010001100001110000011110111101011100100000001010011100100011000110111101001101110001110101111100111010001000110000111001101111011111010101011100011101011111101001110000001110011101000100011000011100000111101111010111001000000010100111101000101010101111011111100001011011001101011111110000101011000111110100111000011101010101111110011111011010101000011001001101110100010001000110000111001101111011111011101011110111111000010110110011010111111101001000010000110000111111110100101000111000001110111001111010101011100011101011111101001110000001110011101000100011000011100000110011100100011000110111101001101110001110101111100111010001000110000111001101111011111010101011100011101011111101001110000001110011101000100011000011100000111101111010111001000000010100111101000101010101111011111100001011011001101011111110000101011000111110100111000011101010101111110011111011010101000011001001101110100010001000110000111001101111011111011101011110111111000010110110011010111111101001000010000110000111111110100101000111000001110111001111010101011100011101011111101001110000001110011101000100011000011100000101110001110001110011111010101100000011100111010001000110000111000001011100011100011100111100101011000000101001111010101011100011101011111101001110000001110011101000100011000011100000111101111010111001000000010\n"
     ]
    }
   ],
   "source": [
    "encoded_text = \"\"\n",
    "for character in text:\n",
    "    encoded_text += codes[character]\n",
    "print(encoded_text)"
   ]
  },
  {
   "cell_type": "markdown",
   "metadata": {},
   "source": [
    "### 1.5 Construção dos bytes\n",
    "\n",
    "Se o número de bits não for múltiplo de 8 temos que adicionar alguns bits extras. Isso porque na hora de ler o arquivo para decodifica-lo leremos os bytes do arquivo, não os bits, então utilizamos essa estratégia para não bagunçar os códigos de cada carácter na hora da leitura para descompressão.\n",
    "\n",
    "Após fazer isso, guardamos no inicio do novo código formado a informação de quantos bits extras existem, para que possamos desconsidera-los na hora da tradução."
   ]
  },
  {
   "cell_type": "code",
   "execution_count": 8,
   "metadata": {},
   "outputs": [],
   "source": [
    "extra_padding = 8 - len(encoded_text) % 8\n",
    "for i in range(extra_padding):\n",
    "    encoded_text += \"0\"\n",
    "\n",
    "padded_info = \"{0:08b}\".format(extra_padding)\n",
    "encoded_text = padded_info + encoded_text"
   ]
  },
  {
   "cell_type": "markdown",
   "metadata": {},
   "source": [
    "### 1.6 Armazenamento\n",
    "\n"
   ]
  },
  {
   "cell_type": "code",
   "execution_count": 9,
   "metadata": {},
   "outputs": [
    {
     "name": "stdout",
     "output_type": "stream",
     "text": [
      "Arquivo salvo como: arquivos_exemplo/musica_vai_lembrar_de_mim_compressed.bin\n"
     ]
    }
   ],
   "source": [
    "compressed_path=f'{original_filename}_compressed.bin'\n",
    "with open(compressed_path, 'wb') as output:\n",
    "\n",
    "    btarray = bytearray()\n",
    "    for i in range(0, len(encoded_text), 8):\n",
    "        byte = encoded_text[i:i+8]\n",
    "        btarray.append(int(byte, 2))        \n",
    "        \n",
    "    output.write(bytes(btarray))\n",
    "print(f'Arquivo salvo como: {compressed_path}')"
   ]
  },
  {
   "cell_type": "markdown",
   "metadata": {},
   "source": [
    "Por fim, verificamos a eficiência da compressão "
   ]
  },
  {
   "cell_type": "code",
   "execution_count": 10,
   "metadata": {},
   "outputs": [
    {
     "data": {
      "text/html": [
       "<b>Nome do arquivo original: </b>arquivos_exemplo/musica_vai_lembrar_de_mim.txt<br><b>Nome do arquivo comprimido: </b>arquivos_exemplo/musica_vai_lembrar_de_mim_compressed.bin<br><b>Tamanho do arquivo original: </b>1427 bytes<br><b>Tamanho do arquivo comprimido: </b>780 bytes<br><br>O algoritmo conseguiu reduzir o tamanho do arquivo para cerca de  <b>45.0%</b> do seu tamanho original<br><br><img src=\"file.png\" style=\"display:inline;margin:1px\" width=100px height=100px/><img src=\"arrow.png\" style=\"display:inline;margin:1px\" width=40px height=40px/><img src=\"file.png\" style=\"display:inline;margin:1px\" width=45.33987386124737px height=45.33987386124737px/>"
      ],
      "text/plain": [
       "<IPython.core.display.HTML object>"
      ]
     },
     "metadata": {},
     "output_type": "display_data"
    }
   ],
   "source": [
    "original_file_size = os.path.getsize(original_path)\n",
    "compressed_file_size = os.path.getsize(compressed_path)\n",
    "size_reduction =((original_file_size-compressed_file_size)/original_file_size)*100\n",
    "\n",
    "display(HTML(f'<b>Nome do arquivo original: </b>{original_path}<br>'+\n",
    "             f'<b>Nome do arquivo comprimido: </b>{compressed_path}<br>'+\n",
    "             f'<b>Tamanho do arquivo original: </b>{original_file_size} bytes<br>'+\n",
    "             f'<b>Tamanho do arquivo comprimido: </b>{compressed_file_size} bytes<br>'+\n",
    "             f'<br>O algoritmo conseguiu reduzir o tamanho do arquivo para cerca de  <b>{round(size_reduction,0)}%</b> do seu tamanho original<br>'+\n",
    "             \n",
    "             f'<br><img src=\"file.png\" style=\"display:inline;margin:1px\" width=100px height=100px/>'+\n",
    "             f'<img src=\"arrow.png\" style=\"display:inline;margin:1px\" width=40px height=40px/>'+\n",
    "             f'<img src=\"file.png\" style=\"display:inline;margin:1px\" width={size_reduction}px height={size_reduction}px/>'\n",
    "            ))\n"
   ]
  },
  {
   "cell_type": "markdown",
   "metadata": {},
   "source": [
    "# PT 2. Descodificação"
   ]
  },
  {
   "cell_type": "markdown",
   "metadata": {},
   "source": [
    "### 2.1 Leitura do arquivo \n",
    "O primeiro passo para iniciar uma descodificação é ler o arquivo binário que contem o conteúdo comprimido. Realizamos a leitura byte a byte "
   ]
  },
  {
   "cell_type": "code",
   "execution_count": 11,
   "metadata": {},
   "outputs": [],
   "source": [
    "compressed_filename, compressed_file_extension = os.path.splitext(compressed_path)\n",
    "\n",
    "with open(compressed_path, 'rb') as file:\n",
    "    bits_string = \"\"\n",
    "\n",
    "    byte = file.read(1) # Leitura do primeiro byte\n",
    "    while(len(byte) > 0):\n",
    "        byte = ord(byte) # Conversão do byte para uma representação inteira\n",
    "        bits = bin(byte)[2:].rjust(8, '0') #Eliminamos o prefixo \"0b\" que precede os bits e convertemos o byte para uma string de bits\n",
    "        bits_string += bits\n",
    "        byte = file.read(1) # Leitura dos proximos bytes"
   ]
  },
  {
   "cell_type": "markdown",
   "metadata": {},
   "source": [
    "### 2.2 Remoção dos bits extras \n",
    "\n",
    "No passo de compressão adicionamos alguns bits extras ao código formado quando é o caso de o número de bits não ser múltiplo de 8. Além disso, guardamos a informação de quantos bits extras existem logo no primeiro byte. Logo, agora basta lermos essa informação para sabermos quantos bits retirar. "
   ]
  },
  {
   "cell_type": "code",
   "execution_count": 12,
   "metadata": {},
   "outputs": [],
   "source": [
    "padded_info = bits_string[:8]\n",
    "extra_padding = int(padded_info, 2)\n",
    "\n",
    "bits_string = bits_string[8:] \n",
    "encoded_text = bits_string[:-1*extra_padding]"
   ]
  },
  {
   "cell_type": "markdown",
   "metadata": {},
   "source": [
    "### 2.3 Tradução do código para texto \n",
    "\n",
    "Agora que temos a string com todos os bits do nosso conteúdo podemos realizar a tradução e obter o texto original. Para isso utilizamos o nosso dicionario \"reverse_mapping\", que foi construído tendo os códigos como chave e os caracteres como valor. "
   ]
  },
  {
   "cell_type": "code",
   "execution_count": 13,
   "metadata": {},
   "outputs": [
    {
     "data": {
      "text/html": [
       "<b>Texto resultante: </b>"
      ],
      "text/plain": [
       "<IPython.core.display.HTML object>"
      ]
     },
     "metadata": {},
     "output_type": "display_data"
    },
    {
     "name": "stdout",
     "output_type": "stream",
     "text": [
      "Quando eu te vejo\n",
      "Espero teu beijo\n",
      "Não sinto vergonha\n",
      "Apenas desejo\n",
      "Minha boca encosta\n",
      "Em tua boca que treme\n",
      "Meus olhos eu fecho\n",
      "Mas os teus estão abertos\n",
      "Tudo bem se não deu certo\n",
      "Eu achei que nós chegamos tão perto\n",
      "Mas agora, com certeza eu enxergo\n",
      "Que no fim eu amei por nós dois\n",
      "Esse foi um beijo de despedida\n",
      "Que se dá uma vez só na vida\n",
      "Que explica tudo sem brigas\n",
      "E clareia o mais escuro dos dias\n",
      "Tudo bem se não deu certo\n",
      "Eu achei que nós chegamos tão perto\n",
      "Mas agora, com certeza eu enxergo\n",
      "Que no fim eu amei por nós dois\n",
      "Mas você lembra? Você vai lembrar de mim\n",
      "Que o nosso amor valeu a pena\n",
      "Lembra? É o nosso final feliz\n",
      "Você vai lembrar... Vai lembrar... Sim\n",
      "Você vai lembrar de mim\n",
      "Esse foi um beijo de despedida\n",
      "Que se dá uma vez só na vida\n",
      "Que explica tudo sem brigas\n",
      "E clareia o mais escuro dos dias\n",
      "Tudo bem se não deu certo\n",
      "Eu achei que nós chegamos tão perto\n",
      "Mas agora, com certeza eu enxergo\n",
      "Que no fim eu amei por nós dois\n",
      "Mas você lembra? Você vai lembrar de mim\n",
      "Que o nosso amor valeu a pena\n",
      "Lembra? É o nosso final feliz\n",
      "Você vai lembrar... Vai lembrar... Sim\n",
      "Você vai lembrar de mim\n",
      "Mas você lembra? Você vai lembrar de mim\n",
      "Que o nosso amor valeu a pena\n",
      "Lembra? É o nosso final feliz\n",
      "Você vai lembrar\n",
      "Mas você lembra? Você vai lembrar de mim\n",
      "Que o nosso amor valeu a pena\n",
      "Lembra? É o nosso final feliz\n",
      "Você vai lembrar... Vai lembrar... Sim\n",
      "Você vai lembrar de mim\n"
     ]
    }
   ],
   "source": [
    "current_code = \"\"\n",
    "decompressed_text = \"\"\n",
    "\n",
    "for bit in encoded_text:\n",
    "    current_code += bit\n",
    "    if(current_code in reverse_mapping):\n",
    "        character = reverse_mapping[current_code]\n",
    "        decompressed_text += character\n",
    "        current_code = \"\"\n",
    "display(HTML('<b>Texto resultante: </b>'))\n",
    "print(decompressed_text)"
   ]
  },
  {
   "cell_type": "markdown",
   "metadata": {},
   "source": [
    "### 2.4 Armazenamento \n"
   ]
  },
  {
   "cell_type": "code",
   "execution_count": 14,
   "metadata": {},
   "outputs": [
    {
     "name": "stdout",
     "output_type": "stream",
     "text": [
      "O arquivo descompactado foi salvo como arquivos_exemplo/musica_vai_lembrar_de_mim_decompressed.txt\n"
     ]
    }
   ],
   "source": [
    "decompressed_file_path=f'{original_filename}_decompressed.txt'\n",
    "with open(decompressed_file_path, 'w') as output:\n",
    "    output.write(decompressed_text)\n",
    "print(f'O arquivo descompactado foi salvo como {decompressed_file_path}')"
   ]
  },
  {
   "cell_type": "markdown",
   "metadata": {},
   "source": [
    "# PT 3. Teste\n",
    "\n",
    "Por fim, é possível comparar o arquivo original com o arquivo descomprimido para averiguar se os dois são de fato iguais"
   ]
  },
  {
   "cell_type": "code",
   "execution_count": 15,
   "metadata": {},
   "outputs": [
    {
     "name": "stdout",
     "output_type": "stream",
     "text": [
      "O conteúdo do arquivo original e do arquivo construído pela descodificação é o mesmo\n"
     ]
    }
   ],
   "source": [
    "if filecmp.cmp(original_path, decompressed_file_path):\n",
    "    print(\"O conteúdo do arquivo original e do arquivo construído pela descodificação é o mesmo\")\n",
    "else:\n",
    "    print(\"Algo deu errado\")"
   ]
  }
 ],
 "metadata": {
  "kernelspec": {
   "display_name": "Python 3",
   "language": "python",
   "name": "python3"
  },
  "language_info": {
   "codemirror_mode": {
    "name": "ipython",
    "version": 3
   },
   "file_extension": ".py",
   "mimetype": "text/x-python",
   "name": "python",
   "nbconvert_exporter": "python",
   "pygments_lexer": "ipython3",
   "version": "3.8.5"
  }
 },
 "nbformat": 4,
 "nbformat_minor": 4
}
