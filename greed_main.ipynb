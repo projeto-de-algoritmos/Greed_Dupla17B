{
 "cells": [
  {
   "cell_type": "markdown",
   "metadata": {},
   "source": [
    "# PAA -  Greed \n",
    "\n"
   ]
  },
  {
   "cell_type": "markdown",
   "metadata": {},
   "source": [
    "### PT 1. Estrutura inicial\n",
    "O primeiro passo é definir a estrutura da nossa heap, que será utilizada para guardar cada um dos nosso caracteres em conjunto com sua frequência de ocorrência e nós a esquerda e a direita na árvore. "
   ]
  },
  {
   "cell_type": "code",
   "execution_count": 5,
   "metadata": {},
   "outputs": [],
   "source": [
    "import heapq\n",
    "import os\n",
    "class HeapNode:\n",
    "    def __init__(self, char, freq):\n",
    "        self.char = char\n",
    "        self.freq = freq\n",
    "        self.left = None\n",
    "        self.right = None\n",
    "\n",
    "    def __lt__(self, other):\n",
    "        return self.freq < other.freq\n",
    "\n",
    "    def __eq__(self, other):\n",
    "        if(other == None):\n",
    "            return False\n",
    "        if(not isinstance(other, HeapNode)):\n",
    "            return False\n",
    "        return self.freq == other.freq"
   ]
  },
  {
   "cell_type": "markdown",
   "metadata": {},
   "source": [
    "Agora podemos pedir ao usuário o caminho do arquivo a ser comprimido. Em seguida preenchemos o nosso heap com esses dados"
   ]
  },
  {
   "cell_type": "code",
   "execution_count": 6,
   "metadata": {},
   "outputs": [
    {
     "name": "stdout",
     "output_type": "stream",
     "text": [
      "Digite o caminho do arquivo:asd\n",
      "Arquivo não encontrado, tente novamente.\n",
      "Digite o caminho do arquivo:asd.txt\n",
      "Arquivo não encontrado, tente novamente.\n",
      "Digite o caminho do arquivo:test.txt\n",
      "{'A': 1, ' ': 9, 'm': 3, 'i': 5, 'r': 4, 'a': 15, 'l': 7, 'g': 3, 'u': 2, 'c': 1, 'o': 5, 's': 6, '\\n': 5, 't': 5, 'e': 6, 'd': 7, 'n': 2, 'j': 2, 'b': 1, 'f': 1, 'v': 1}\n"
     ]
    }
   ],
   "source": [
    "while True:\n",
    "    original_path = input(\"Digite o caminho do arquivo:\")\n",
    "    if os.path.isfile(original_path):\n",
    "        break\n",
    "    print(\"Arquivo não encontrado, tente novamente.\")\n",
    "\n",
    "original_filename, original_file_extension = os.path.splitext(original_path)\n",
    "with open(original_path, 'r+') as file:\n",
    "    text = file.read()\n",
    "    text = text.rstrip()\n",
    "\n",
    "chars_frequency = {}\n",
    "for character in text:\n",
    "    if not character in chars_frequency:\n",
    "        chars_frequency[character] = 0\n",
    "    chars_frequency[character] += 1\n",
    "\n",
    "print(chars_frequency)\n",
    "\n",
    "heap = []\n",
    "\n",
    "for key in chars_frequency:\n",
    "    node = HeapNode(key, chars_frequency[key])\n",
    "    heapq.heappush(heap, node)"
   ]
  },
  {
   "cell_type": "markdown",
   "metadata": {},
   "source": [
    "Agora construimos nossa árvore com os caracteres, de forma que os nós mais próximos da raiz são aqueles que representam os caracteres com maior frequência. Isso fica especialmente fácil por termos utilizado uma heap, já guardando os nós em ordem de frequência. "
   ]
  },
  {
   "cell_type": "code",
   "execution_count": 8,
   "metadata": {},
   "outputs": [],
   "source": [
    "while(len(heap)>1):\n",
    "    node1 = heapq.heappop(heap)\n",
    "    node2 = heapq.heappop(heap)\n",
    "\n",
    "    merged = HeapNode(None, node1.freq + node2.freq)\n",
    "    merged.left = node1\n",
    "    merged.right = node2\n",
    "\n",
    "    heapq.heappush(heap, merged)"
   ]
  },
  {
   "cell_type": "markdown",
   "metadata": {},
   "source": [
    "Estando com a árvore montada, podemos construir os códigos para cada caracter."
   ]
  },
  {
   "cell_type": "code",
   "execution_count": 9,
   "metadata": {},
   "outputs": [
    {
     "name": "stdout",
     "output_type": "stream",
     "text": [
      "{'i': '0000', 'r': '0001', 'm': '0010', 'b': '00110', 'l': '00111', 'e': '010', 's': '0110', '.': '011100', 'L': '01110100', 'j': '01110101', 'z': '0111011', 'd': '01111', 'n': '10000', 'c': '10001', 'M': '1001000', 'h': '1001001', 'x': '10010100', 'T': '100101010', 'S': '100101011', 'g': '1001011', '\\n': '10011', 't': '101000', 'v': '101001', 'u': '10101', 'o': '1011', 'a': '1100', 'Q': '1101000', 'f': '1101001', 'V': '1101010', 'ê': '1101011', ',': '110110000', 'q': '110110001', 'ó': '11011001', 'p': '1101101', 'ã': '11011100', 'É': '110111010', 'á': '1101110110', 'N': '11011101110', 'A': '11011101111', '?': '11011110', 'E': '11011111', ' ': '111'}\n"
     ]
    }
   ],
   "source": [
    "\n",
    "reverse_mapping = {}\n",
    "codes = {}\n",
    "\n",
    "def build_huffman_code(root, current_code):\n",
    "    if(root == None):\n",
    "        return\n",
    "\n",
    "    if(root.char != None):\n",
    "        codes[root.char] = current_code\n",
    "        reverse_mapping[current_code] = root.char\n",
    "        return\n",
    "\n",
    "    build_huffman_code(root.left, current_code + \"0\")\n",
    "    build_huffman_code(root.right, current_code + \"1\")\n",
    "    \n",
    "    \n",
    "build_huffman_code(heapq.heappop(heap), \"\")\n",
    "print(codes)"
   ]
  },
  {
   "cell_type": "code",
   "execution_count": 10,
   "metadata": {},
   "outputs": [
    {
     "name": "stdout",
     "output_type": "stream",
     "text": [
      "110100010101110010000011111011111010101011111010000101111010010100111010110111001111011111011011011010100001101111110100001010101111001100100000011101011011100111101110111011011100101111101100000100001010001011111101001010000110010111011100001001001110010011110111011111101101010100001100011011101111010011001001110101101110011100100000001000010010011100111001101011100011100111010100001000110110110101000110010011110111110010111101000101011100111001101011100011100111110110001101010101111010000001010001001010011100100001010101011011110110011110010011011011011101010101111110100101010001100100110111001110010001100011011110110110111101000010101010110111010011010100011011100101111111000011001000011010001011011010011100101010101010111110111110011001000101110110010111100001101110010111110111101010101111100010100001101000101110011110111111010111111001000110010010100000111110110001101010101111000011011001011011110001100100101010010111100001010110110111101000110111001011111110110101000011010001011100111001000110001101111100100101110110001110011011000011110001101100101111000101000011010000100111011110011101010101111010100001001010001000011001011101110011110100010101010111100001011111110100100000010111010101011111100001001000001111101101101100011111000011011001011011101111101100000110100111101111101100110010111110100110110000111101010010111001100100000011101011011111011110101110111101001101101101010011110000011111100100111101000101010101110110010111011111101110110111101010010110011110100101001110111110110110110011111000011001111010010000011111100100111101000101010101110101001010011011010011100001000111001111010001010101111101111101100100010111001100001000010010111100011010011110111111111000100111110000010100000110011110111110010110000000110111010011010001101010001101111101111101101101110111100001100011010011100101010101010111110111110011001000101110110010111100001101110010111110111101010101111100010100001101000101110011110111111010111111001000110010010100000111110110001101010101111000011011001011011110001100100101010010111100001010110110111101000110111001011111110110101000011010001011100111001000110001101111100100101110110001110011011000011110001101100101111000101000011010000100111011110011101010101111010100001001010001000011001011101110011110100010101010111100001011111110100100000010111010101011111100001001000001111101101101100011111000011011001011011101111101100000110100111001000110001101111010011011100011101011111001110100010001100001110011011110111110101010111000111010111111010011100000011100111010001000110000111000001111011110101110010000000101001111010001010101011110111111000010110110011010111111100001010110001111101001110000111010101011111100111110110101010000110010011011101000100010001100001110011011110111110111010111101111110000101101100110101111111010010000100001100001111111101001010001110000011101110011110101010111000111010111111010011100000011100111010001000110000111000001011100011100011100111110101011000000111001110100010001100001110000010111000111000111001111001010110000001010011110101010111000111010111111010011100000011100111010001000110000111000001111011110101110010000000101001111011111011001100101111101001101100001111010100101110011001000000111010110111110111101011101111010011011011010100111100000111111001001111010001010101011101100101110111111011101101111010100101100111101001010011101111101101101100111110000110011110100100000111111001001111010001010101011101010010100110110100111000010001110011110100010101011111011111011001000101110011000010000100101111000110100111101111111110001001111100000101000001100111101111100101100000001101110100110100011010100011011111011111011011011101111000011000110100111001010101010101111101111100110010001011101100101111000011011100101111101111010101011111000101000011010001011100111101111110101111110010001100100101000001111101100011010101011110000110110010110111100011001001010100101111000010101101101111010001101110010111111101101010000110100010111001110010001100011011111001001011101100011100110110000111100011011001011110001010000110100001001110111100111010101011110101000010010100010000110010111011100111101000101010101111000010111111101001000000101110101010111111000010010000011111011011011000111110000110110010110111011111011000001101001110010001100011011110100110111000111010111110011101000100011000011100110111101111101010101110001110101111110100111000000111001110100010001100001110000011110111101011100100000001010011110100010101010111101111110000101101100110101111111000010101100011111010011100001110101010111111001111101101010100001100100110111010001000100011000011100110111101111101110101111011111100001011011001101011111110100100001000011000011111111010010100011100000111011100111101010101110001110101111110100111000000111001110100010001100001110000010111000111000111001111101010110000001110011101000100011000011100000101110001110001110011110010101100000010100111101010101110001110101111110100111000000111001110100010001100001110000011110111101011100100000001010011100100011000110111101001101110001110101111100111010001000110000111001101111011111010101011100011101011111101001110000001110011101000100011000011100000111101111010111001000000010100111101000101010101111011111100001011011001101011111110000101011000111110100111000011101010101111110011111011010101000011001001101110100010001000110000111001101111011111011101011110111111000010110110011010111111101001000010000110000111111110100101000111000001110111001111010101011100011101011111101001110000001110011101000100011000011100000110011100100011000110111101001101110001110101111100111010001000110000111001101111011111010101011100011101011111101001110000001110011101000100011000011100000111101111010111001000000010100111101000101010101111011111100001011011001101011111110000101011000111110100111000011101010101111110011111011010101000011001001101110100010001000110000111001101111011111011101011110111111000010110110011010111111101001000010000110000111111110100101000111000001110111001111010101011100011101011111101001110000001110011101000100011000011100000101110001110001110011111010101100000011100111010001000110000111000001011100011100011100111100101011000000101001111010101011100011101011111101001110000001110011101000100011000011100000111101111010111001000000010\n"
     ]
    }
   ],
   "source": [
    "encoded_text = \"\"\n",
    "for character in text:\n",
    "    encoded_text += codes[character]\n",
    "print(encoded_text)"
   ]
  },
  {
   "cell_type": "code",
   "execution_count": 11,
   "metadata": {},
   "outputs": [],
   "source": [
    "extra_padding = 8 - len(encoded_text) % 8\n",
    "for i in range(extra_padding):\n",
    "    encoded_text += \"0\"\n",
    "\n",
    "padded_info = \"{0:08b}\".format(extra_padding)\n",
    "encoded_text = padded_info + encoded_text"
   ]
  },
  {
   "cell_type": "code",
   "execution_count": 12,
   "metadata": {},
   "outputs": [],
   "source": [
    "compressed_path=f'{original_filename}_compressed.bin'\n",
    "with open(compressed_path, 'wb') as output:\n",
    "\n",
    "    btarray = bytearray()\n",
    "    for i in range(0, len(encoded_text), 8):\n",
    "        byte = encoded_text[i:i+8]\n",
    "        btarray.append(int(byte, 2))        \n",
    "        \n",
    "    output.write(bytes(btarray))"
   ]
  },
  {
   "cell_type": "code",
   "execution_count": 13,
   "metadata": {},
   "outputs": [
    {
     "name": "stdout",
     "output_type": "stream",
     "text": [
      "Nome do arquivo comprimido: lorem_compressed.bin\n",
      "Tamanho do arquivo original: 1427 bytes\n",
      "Tamanho do arquivo comprimido: 780 bytes\n",
      "O algoritmo conseguiu reduzir o tamanho do arquivo para 45.0% do seu tamanho original\n"
     ]
    }
   ],
   "source": [
    "original_file_size = os.path.getsize(original_path)\n",
    "compressed_file_size = os.path.getsize(compressed_path)\n",
    "size_reduction = format(round((((original_file_size-compressed_file_size)/original_file_size)*100), 0))\n",
    "print(f'Nome do arquivo comprimido: {compressed_path}')\n",
    "print(f'Tamanho do arquivo original: {original_file_size} bytes')\n",
    "print(f'Tamanho do arquivo comprimido: {compressed_file_size} bytes')\n",
    "print(f'O algoritmo conseguiu reduzir o tamanho do arquivo para {size_reduction}% do seu tamanho original')"
   ]
  },
  {
   "cell_type": "code",
   "execution_count": 14,
   "metadata": {},
   "outputs": [
    {
     "name": "stdout",
     "output_type": "stream",
     "text": [
      "Digite o caminho do arquivo a ser descomprimido: lorem_compressed.bin\n"
     ]
    }
   ],
   "source": [
    "compressed_path = input(\"Digite o caminho do arquivo a ser descomprimido: \")\n",
    "compressed_filename, compressed_file_extension = os.path.splitext(compressed_path)\n",
    "\n",
    "with open(compressed_path, 'rb') as file:\n",
    "    bits_string = \"\"\n",
    "\n",
    "    byte = file.read(1)\n",
    "    while(len(byte) > 0):\n",
    "        byte = ord(byte)\n",
    "        bits = bin(byte)[2:].rjust(8, '0')\n",
    "        bits_string += bits\n",
    "        byte = file.read(1)"
   ]
  },
  {
   "cell_type": "code",
   "execution_count": 15,
   "metadata": {},
   "outputs": [],
   "source": [
    "padded_info = bits_string[:8]\n",
    "extra_padding = int(padded_info, 2)\n",
    "\n",
    "bits_string = bits_string[8:] \n",
    "encoded_text = bits_string[:-1*extra_padding]"
   ]
  },
  {
   "cell_type": "code",
   "execution_count": 16,
   "metadata": {},
   "outputs": [
    {
     "name": "stdout",
     "output_type": "stream",
     "text": [
      "Quando eu te vejo\n",
      "Espero teu beijo\n",
      "Não sinto vergonha\n",
      "Apenas desejo\n",
      "Minha boca encosta\n",
      "Em tua boca que treme\n",
      "Meus olhos eu fecho\n",
      "Mas os teus estão abertos\n",
      "Tudo bem se não deu certo\n",
      "Eu achei que nós chegamos tão perto\n",
      "Mas agora, com certeza eu enxergo\n",
      "Que no fim eu amei por nós dois\n",
      "Esse foi um beijo de despedida\n",
      "Que se dá uma vez só na vida\n",
      "Que explica tudo sem brigas\n",
      "E clareia o mais escuro dos dias\n",
      "Tudo bem se não deu certo\n",
      "Eu achei que nós chegamos tão perto\n",
      "Mas agora, com certeza eu enxergo\n",
      "Que no fim eu amei por nós dois\n",
      "Mas você lembra? Você vai lembrar de mim\n",
      "Que o nosso amor valeu a pena\n",
      "Lembra? É o nosso final feliz\n",
      "Você vai lembrar... Vai lembrar... Sim\n",
      "Você vai lembrar de mim\n",
      "Esse foi um beijo de despedida\n",
      "Que se dá uma vez só na vida\n",
      "Que explica tudo sem brigas\n",
      "E clareia o mais escuro dos dias\n",
      "Tudo bem se não deu certo\n",
      "Eu achei que nós chegamos tão perto\n",
      "Mas agora, com certeza eu enxergo\n",
      "Que no fim eu amei por nós dois\n",
      "Mas você lembra? Você vai lembrar de mim\n",
      "Que o nosso amor valeu a pena\n",
      "Lembra? É o nosso final feliz\n",
      "Você vai lembrar... Vai lembrar... Sim\n",
      "Você vai lembrar de mim\n",
      "Mas você lembra? Você vai lembrar de mim\n",
      "Que o nosso amor valeu a pena\n",
      "Lembra? É o nosso final feliz\n",
      "Você vai lembrar\n",
      "Mas você lembra? Você vai lembrar de mim\n",
      "Que o nosso amor valeu a pena\n",
      "Lembra? É o nosso final feliz\n",
      "Você vai lembrar... Vai lembrar... Sim\n",
      "Você vai lembrar de mim\n"
     ]
    }
   ],
   "source": [
    "current_code = \"\"\n",
    "decompressed_text = \"\"\n",
    "\n",
    "for bit in encoded_text:\n",
    "    current_code += bit\n",
    "    if(current_code in reverse_mapping):\n",
    "        character = reverse_mapping[current_code]\n",
    "        decompressed_text += character\n",
    "        current_code = \"\"\n",
    "print(decompressed_text)"
   ]
  },
  {
   "cell_type": "code",
   "execution_count": 17,
   "metadata": {},
   "outputs": [
    {
     "name": "stdout",
     "output_type": "stream",
     "text": [
      "O arquivo descompactado foi salvo como lorem_compressed_decompressed.txt\n"
     ]
    }
   ],
   "source": [
    "decompressed_file_path=f'{compressed_filename}_decompressed.txt'\n",
    "with open(decompressed_file_path, 'w') as output:\n",
    "    output.write(decompressed_text)\n",
    "print(f'O arquivo descompactado foi salvo como {decompressed_file_path}')"
   ]
  },
  {
   "cell_type": "code",
   "execution_count": 18,
   "metadata": {},
   "outputs": [
    {
     "data": {
      "text/plain": [
       "True"
      ]
     },
     "execution_count": 18,
     "metadata": {},
     "output_type": "execute_result"
    }
   ],
   "source": [
    "import filecmp\n",
    "filecmp.cmp(original_path, decompressed_file_path)"
   ]
  },
  {
   "cell_type": "code",
   "execution_count": null,
   "metadata": {},
   "outputs": [],
   "source": []
  }
 ],
 "metadata": {
  "kernelspec": {
   "display_name": "Python 3",
   "language": "python",
   "name": "python3"
  },
  "language_info": {
   "codemirror_mode": {
    "name": "ipython",
    "version": 3
   },
   "file_extension": ".py",
   "mimetype": "text/x-python",
   "name": "python",
   "nbconvert_exporter": "python",
   "pygments_lexer": "ipython3",
   "version": "3.8.5"
  }
 },
 "nbformat": 4,
 "nbformat_minor": 4
}
