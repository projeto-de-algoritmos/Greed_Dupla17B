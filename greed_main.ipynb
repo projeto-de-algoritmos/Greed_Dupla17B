{
 "cells": [
  {
   "cell_type": "markdown",
   "metadata": {},
   "source": [
    "# PAA -  Greed \n",
    "\n"
   ]
  },
  {
   "cell_type": "markdown",
   "metadata": {},
   "source": [
    " O primeiro passo é definir a estrutura da nossa heap, que será utilizada para guardar cada um dos nosso caracteres em conjunto com sua frequência e nós a esquerda e a direita. "
   ]
  },
  {
   "cell_type": "code",
   "execution_count": 1,
   "metadata": {},
   "outputs": [],
   "source": [
    "import heapq\n",
    "import os\n",
    "class HeapNode:\n",
    "    def __init__(self, char, freq):\n",
    "        self.char = char\n",
    "        self.freq = freq\n",
    "        self.left = None\n",
    "        self.right = None\n",
    "\n",
    "    def __lt__(self, other):\n",
    "        return self.freq < other.freq\n",
    "\n",
    "    def __eq__(self, other):\n",
    "        if(other == None):\n",
    "            return False\n",
    "        if(not isinstance(other, HeapNode)):\n",
    "            return False\n",
    "        return self.freq == other.freq"
   ]
  },
  {
   "cell_type": "markdown",
   "metadata": {},
   "source": [
    "Agora podemos pedir ao usuário o caminho do arquivo a ser comprimido. Em seguida preenchemos o nosso heap com esses dados"
   ]
  },
  {
   "cell_type": "code",
   "execution_count": 7,
   "metadata": {},
   "outputs": [
    {
     "name": "stdout",
     "output_type": "stream",
     "text": [
      "Digite o caminho do arquivo:lorem.txt\n",
      "{'Q': 12, 'u': 49, 'a': 111, 'n': 39, 'd': 36, 'o': 108, ' ': 235, 'e': 139, 't': 23, 'v': 25, 'j': 5, '\\n': 46, 'E': 9, 's': 72, 'p': 16, 'r': 68, 'b': 33, 'i': 65, 'N': 1, 'ã': 8, 'g': 12, 'h': 10, 'A': 1, 'M': 10, 'c': 40, 'm': 68, 'q': 4, 'l': 35, 'f': 14, 'T': 3, 'ó': 8, ',': 3, 'z': 9, 'x': 5, 'á': 2, 'ê': 15, '?': 8, 'V': 14, 'L': 4, 'É': 4, '.': 18, 'S': 3}\n"
     ]
    }
   ],
   "source": [
    "original_path = input(\"Digite o caminho do arquivo:\")\n",
    "original_filename, original_file_extension = os.path.splitext(original_path)\n",
    "with open(original_path, 'r+') as file:\n",
    "    text = file.read()\n",
    "    text = text.rstrip()\n",
    "\n",
    "chars_frequency = {}\n",
    "for character in text:\n",
    "    if not character in chars_frequency:\n",
    "        chars_frequency[character] = 0\n",
    "    chars_frequency[character] += 1\n",
    "\n",
    "print(chars_frequency)\n",
    "\n",
    "heap = []\n",
    "\n",
    "for key in chars_frequency:\n",
    "    node = HeapNode(key, chars_frequency[key])\n",
    "    heapq.heappush(heap, node)"
   ]
  },
  {
   "cell_type": "markdown",
   "metadata": {},
   "source": [
    "Agora construimos nossa árvore com os caracteres, de forma que os nós mais próximos da raiz são aqueles que representam os caracteres com maior frequência. Isso fica especialmente fácil por termos utilizado uma heap, já guardando os nós em ordem de frequência. "
   ]
  },
  {
   "cell_type": "code",
   "execution_count": 15,
   "metadata": {},
   "outputs": [],
   "source": [
    "while(len(heap)>1):\n",
    "    node1 = heapq.heappop(heap)\n",
    "    node2 = heapq.heappop(heap)\n",
    "\n",
    "    merged = HeapNode(None, node1.freq + node2.freq)\n",
    "    merged.left = node1\n",
    "    merged.right = node2\n",
    "\n",
    "    heapq.heappush(heap, merged)"
   ]
  },
  {
   "cell_type": "markdown",
   "metadata": {},
   "source": [
    "Estando com a árvore montada, podemos construir os códigos para cada caracter."
   ]
  },
  {
   "cell_type": "code",
   "execution_count": 17,
   "metadata": {},
   "outputs": [
    {
     "name": "stdout",
     "output_type": "stream",
     "text": [
      "{'A': '000000', 'c': '000001', 'f': '000010', 'v': '000011', 'n': '00010', 'j': '00011', ' ': '001', 'o': '0100', 'i': '0101', 't': '0110', '\\n': '0111', 'e': '1000', 's': '1001', 'm': '10100', 'b': '101010', 'u': '101011', 'g': '10110', 'r': '10111', 'd': '1100', 'l': '1101', 'a': '111'}\n"
     ]
    }
   ],
   "source": [
    "\n",
    "reverse_mapping = {}\n",
    "codes = {}\n",
    "\n",
    "def build_huffman_code(root, current_code):\n",
    "    if(root == None):\n",
    "        return\n",
    "\n",
    "    if(root.char != None):\n",
    "        codes[root.char] = current_code\n",
    "        reverse_mapping[current_code] = root.char\n",
    "        return\n",
    "\n",
    "    build_huffman_code(root.left, current_code + \"0\")\n",
    "    build_huffman_code(root.right, current_code + \"1\")\n",
    "    \n",
    "    \n",
    "build_huffman_code(heapq.heappop(heap), \"\")\n",
    "print(codes)"
   ]
  },
  {
   "cell_type": "code",
   "execution_count": 19,
   "metadata": {},
   "outputs": [
    {
     "name": "stdout",
     "output_type": "stream",
     "text": [
      "00000000110100010110100010110111001111110110110101011101001110010000010100010110011110111011010001001011010000010110100010010110100000101111100010111110110010000010111110100110111111000111111100111011111001010111100100000111111011001111110111001111001110011101111111101100101101011101001010101111101000010010000111000001111100010101100100001011111010101000011101111000\n"
     ]
    }
   ],
   "source": [
    "encoded_text = \"\"\n",
    "for character in text:\n",
    "    encoded_text += codes[character]\n",
    "print(encoded_text)"
   ]
  },
  {
   "cell_type": "code",
   "execution_count": 20,
   "metadata": {},
   "outputs": [],
   "source": [
    "extra_padding = 8 - len(encoded_text) % 8\n",
    "for i in range(extra_padding):\n",
    "    encoded_text += \"0\"\n",
    "\n",
    "padded_info = \"{0:08b}\".format(extra_padding)\n",
    "encoded_text = padded_info + encoded_text"
   ]
  },
  {
   "cell_type": "code",
   "execution_count": 27,
   "metadata": {},
   "outputs": [],
   "source": [
    "compressed_path=f'{original_filename}_compressed.bin'\n",
    "with open(compressed_path, 'wb') as output:\n",
    "\n",
    "    btarray = bytearray()\n",
    "    for i in range(0, len(encoded_text), 8):\n",
    "        byte = encoded_text[i:i+8]\n",
    "        btarray.append(int(byte, 2))        \n",
    "        \n",
    "    output.write(bytes(btarray))"
   ]
  },
  {
   "cell_type": "code",
   "execution_count": 32,
   "metadata": {},
   "outputs": [
    {
     "name": "stdout",
     "output_type": "stream",
     "text": [
      "Nome do arquivo comprimido: test_compressed.bin\n",
      "Tamanho do arquivo original: 91 bytes\n",
      "Tamanho do arquivo comprimido: 48 bytes\n",
      "O algoritmo conseguiu reduzir o tamanho do arquivo para 47.0% do seu tamanho original\n"
     ]
    }
   ],
   "source": [
    "original_file_size = os.path.getsize(original_path)\n",
    "compressed_file_size = os.path.getsize(compressed_path)\n",
    "size_reduction = format(round((((original_file_size-compressed_file_size)/original_file_size)*100), 0))\n",
    "print(f'Nome do arquivo comprimido: {compressed_path}')\n",
    "print(f'Tamanho do arquivo original: {original_file_size} bytes')\n",
    "print(f'Tamanho do arquivo comprimido: {compressed_file_size} bytes')\n",
    "print(f'O algoritmo conseguiu reduzir o tamanho do arquivo para {size_reduction}% do seu tamanho original')"
   ]
  },
  {
   "cell_type": "code",
   "execution_count": 34,
   "metadata": {},
   "outputs": [
    {
     "name": "stdout",
     "output_type": "stream",
     "text": [
      "Digite o caminho do arquivo a ser descomprimido: test_compressed.bin\n"
     ]
    }
   ],
   "source": [
    "compressed_path = input(\"Digite o caminho do arquivo a ser descomprimido: \")\n",
    "compressed_filename, compressed_file_extension = os.path.splitext(compressed_path)\n",
    "\n",
    "with open(compressed_path, 'rb') as file:\n",
    "    bits_string = \"\"\n",
    "\n",
    "    byte = file.read(1)\n",
    "    while(len(byte) > 0):\n",
    "        byte = ord(byte)\n",
    "        bits = bin(byte)[2:].rjust(8, '0')\n",
    "        bits_string += bits\n",
    "        byte = file.read(1)"
   ]
  },
  {
   "cell_type": "code",
   "execution_count": 36,
   "metadata": {},
   "outputs": [],
   "source": [
    "padded_info = bits_string[:8]\n",
    "extra_padding = int(padded_info, 2)\n",
    "\n",
    "bits_string = bits_string[8:] \n",
    "encoded_text = bits_string[:-1*extra_padding]"
   ]
  },
  {
   "cell_type": "code",
   "execution_count": 37,
   "metadata": {},
   "outputs": [
    {
     "name": "stdout",
     "output_type": "stream",
     "text": [
      "A mimir alguma coisa\n",
      "teste teste \n",
      "diagonal rajada\n",
      "dude alsaldasda\n",
      "alstrobalfo django \n",
      "livre\n"
     ]
    }
   ],
   "source": [
    "current_code = \"\"\n",
    "decompressed_text = \"\"\n",
    "\n",
    "for bit in encoded_text:\n",
    "    current_code += bit\n",
    "    if(current_code in reverse_mapping):\n",
    "        character = reverse_mapping[current_code]\n",
    "        decompressed_text += character\n",
    "        current_code = \"\"\n",
    "print(decompressed_text)"
   ]
  },
  {
   "cell_type": "code",
   "execution_count": 39,
   "metadata": {},
   "outputs": [
    {
     "name": "stdout",
     "output_type": "stream",
     "text": [
      "O arquivo descompactado foi salvo como test_compressed_decompressed.txt\n"
     ]
    }
   ],
   "source": [
    "decompressed_file_path=f'{compressed_filename}_decompressed.txt'\n",
    "with open(decompressed_file_path, 'w') as output:\n",
    "    output.write(decompressed_text)\n",
    "print(f'O arquivo descompactado foi salvo como {decompressed_file_path}')"
   ]
  },
  {
   "cell_type": "code",
   "execution_count": 40,
   "metadata": {},
   "outputs": [
    {
     "data": {
      "text/plain": [
       "True"
      ]
     },
     "execution_count": 40,
     "metadata": {},
     "output_type": "execute_result"
    }
   ],
   "source": [
    "import filecmp\n",
    "filecmp.cmp(original_path, decompressed_file_path)"
   ]
  },
  {
   "cell_type": "code",
   "execution_count": null,
   "metadata": {},
   "outputs": [],
   "source": []
  }
 ],
 "metadata": {
  "kernelspec": {
   "display_name": "Python 3",
   "language": "python",
   "name": "python3"
  },
  "language_info": {
   "codemirror_mode": {
    "name": "ipython",
    "version": 3
   },
   "file_extension": ".py",
   "mimetype": "text/x-python",
   "name": "python",
   "nbconvert_exporter": "python",
   "pygments_lexer": "ipython3",
   "version": "3.8.5"
  }
 },
 "nbformat": 4,
 "nbformat_minor": 4
}
